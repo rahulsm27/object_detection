{
 "cells": [
  {
   "cell_type": "code",
   "execution_count": null,
   "metadata": {},
   "outputs": [],
   "source": [
    "!pip install fiftyone"
   ]
  },
  {
   "cell_type": "code",
   "execution_count": null,
   "metadata": {},
   "outputs": [],
   "source": [
    "import fiftyone as fo"
   ]
  },
  {
   "cell_type": "code",
   "execution_count": null,
   "metadata": {},
   "outputs": [],
   "source": [
    "dataset = fo.zoo.load_zoo_dataset(\"open-images-v6\",split=\"train\",label_types=['detections'],classes=['Plastic bag'],\n",
    "                                  max_samples=100)"
   ]
  },
  {
   "cell_type": "code",
   "execution_count": null,
   "metadata": {},
   "outputs": [],
   "source": [
    "dataset = fo.zoo.load_zoo_dataset(\"open-images-v6\",split=\"validation\",label_types=['detections'],classes=['Plastic bag'],\n",
    "                                  max_samples=10)"
   ]
  },
  {
   "cell_type": "code",
   "execution_count": null,
   "metadata": {},
   "outputs": [],
   "source": [
    "# zip and download from google colab\n",
    "import shutil\n",
    "shutil.make_archive('root/fiftyone/zipped/trainImages', 'zip', '/root/fiftyone/open-images-v6/train')\n",
    "\n",
    "shutil.make_archive('root/fiftyone/zipped/validationImages', 'zip', '/root/fiftyone/open-images-v6/validation')"
   ]
  }
 ],
 "metadata": {
  "language_info": {
   "name": "python"
  },
  "orig_nbformat": 4
 },
 "nbformat": 4,
 "nbformat_minor": 2
}
